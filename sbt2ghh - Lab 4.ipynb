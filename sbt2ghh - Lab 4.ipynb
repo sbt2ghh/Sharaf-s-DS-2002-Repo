{
 "cells": [
  {
   "cell_type": "markdown",
   "id": "b793beeb",
   "metadata": {},
   "source": [
    "**Due: Sunday at 11:59 P.M. via Collab and GitHub**\n",
    "\n",
    "Learning Objective\n",
    "1.\tPut into practice using Python to interact and call a public API successfully\n",
    "2.\tLook at the data within JSON and DataFrames\n",
    "3.\tWrite your data to a local file (JSON)\n",
    "4.\tUse basic visualization to display information\n",
    "5.\tInteract with users\n",
    "\n",
    "Challenge:\n",
    "You have seen some examples of how to interact with JSON, CSV and make API Calls. Take some time to explore the YAHOO Finance Guide https://syncwith.com/yahoo-finance/yahoo-finance-api which shows you endpoints for calling information. Your job is to code a Python Program that does the following things:\n",
    "\n",
    "1.\tTakes user input for a stock (using the Ticker Symbol): IE with the input() command\n",
    "2.\tYou will display back the user: Name Ticker, Full Name of the Stock, Current Price, Target Mean Price, Cash on Hand, Profit Margins\n",
    "3.\tStore the Results Locally in JSON Format with just those items and include a date of when that data was pulled\n",
    "4.\tHandle Errors (IE, the stock doesn’t exist and/or the API is not returning information)\n",
    "\n",
    "You will have to read the documentation and figure out which modules to call to get the data that you need. You will need to make more than one call to this API. Use the examples in our Zoom Session to guide you, but the documentation will be enough. Post your code to GitHub.\n",
    "\n",
    "Bonus –\n",
    "1.\tUse MatPlotLib to chart the historical price of a stock price’s highest value over the past 5 days. \n",
    "\n"
   ]
  },
  {
   "cell_type": "code",
   "execution_count": 281,
   "id": "2f2b60a7",
   "metadata": {},
   "outputs": [],
   "source": [
    "#Sharaf Tariq\n",
    "#sbt2ghh\n",
    "#10/16/2022\n",
    "#Lab 4"
   ]
  },
  {
   "cell_type": "code",
   "execution_count": 282,
   "id": "a0b3d457",
   "metadata": {},
   "outputs": [],
   "source": [
    "import json\n",
    "import requests\n",
    "import pandas\n"
   ]
  },
  {
   "cell_type": "code",
   "execution_count": 283,
   "id": "ca89de43",
   "metadata": {},
   "outputs": [
    {
     "name": "stdout",
     "output_type": "stream",
     "text": [
      "AAPL\n"
     ]
    },
    {
     "data": {
      "text/plain": [
       "'AAPL'"
      ]
     },
     "execution_count": 283,
     "metadata": {},
     "output_type": "execute_result"
    }
   ],
   "source": [
    "stock = input() #this asks the user for a stock/ticker or something \n",
    "stock"
   ]
  },
  {
   "cell_type": "code",
   "execution_count": 284,
   "id": "03e49250",
   "metadata": {},
   "outputs": [
    {
     "name": "stdout",
     "output_type": "stream",
     "text": [
      "AAPL\n"
     ]
    }
   ],
   "source": [
    "print(stock)"
   ]
  },
  {
   "cell_type": "code",
   "execution_count": 285,
   "id": "39bc6d77",
   "metadata": {},
   "outputs": [
    {
     "name": "stdout",
     "output_type": "stream",
     "text": [
      "{'symbols': 'AAPL'}\n"
     ]
    }
   ],
   "source": [
    "#step 1 set up url where is this enpoint that I want\n",
    "#base url https://query1.finance.yahoo.com/v7/finance/quote\n",
    "urlQuote = 'https://query1.finance.yahoo.com/v7/finance/quote'\n",
    "querystring = {\"symbols\": stock}\n",
    "print(querystring)"
   ]
  },
  {
   "cell_type": "code",
   "execution_count": 286,
   "id": "a53f07c6",
   "metadata": {},
   "outputs": [
    {
     "data": {
      "text/plain": [
       "<Response [200]>"
      ]
     },
     "execution_count": 286,
     "metadata": {},
     "output_type": "execute_result"
    }
   ],
   "source": [
    "header_var ={\n",
    "    'User-Agent': 'Mozilla/5.0 (Macintosh; Intel Mac OS X 12_6) AppleWebKit/537.36 (KHTML, like Gecko) Chrome/106.0.0.0 Safari/537.36'}\n",
    "\n",
    "response = requests.request(\"GET\",urlQuote, headers=header_var,params=querystring)\n",
    "response\n"
   ]
  },
  {
   "cell_type": "code",
   "execution_count": 287,
   "id": "79089bfb",
   "metadata": {},
   "outputs": [
    {
     "data": {
      "text/plain": [
       "{'quoteResponse': {'result': [{'language': 'en-US',\n",
       "    'region': 'US',\n",
       "    'quoteType': 'EQUITY',\n",
       "    'typeDisp': 'Equity',\n",
       "    'quoteSourceName': 'Nasdaq Real Time Price',\n",
       "    'triggerable': True,\n",
       "    'customPriceAlertConfidence': 'HIGH',\n",
       "    'currency': 'USD',\n",
       "    'messageBoardId': 'finmb_24937',\n",
       "    'exchangeTimezoneName': 'America/New_York',\n",
       "    'exchangeTimezoneShortName': 'EDT',\n",
       "    'gmtOffSetMilliseconds': -14400000,\n",
       "    'market': 'us_market',\n",
       "    'esgPopulated': False,\n",
       "    'marketState': 'CLOSED',\n",
       "    'regularMarketChangePercent': -3.224002,\n",
       "    'regularMarketPrice': 138.38,\n",
       "    'exchange': 'NMS',\n",
       "    'shortName': 'Apple Inc.',\n",
       "    'longName': 'Apple Inc.',\n",
       "    'sourceInterval': 15,\n",
       "    'exchangeDataDelayedBy': 0,\n",
       "    'averageAnalystRating': '1.9 - Buy',\n",
       "    'tradeable': False,\n",
       "    'cryptoTradeable': False,\n",
       "    'firstTradeDateMilliseconds': 345479400000,\n",
       "    'priceHint': 2,\n",
       "    'postMarketChangePercent': -0.216797,\n",
       "    'postMarketTime': 1665791999,\n",
       "    'postMarketPrice': 138.08,\n",
       "    'postMarketChange': -0.300003,\n",
       "    'regularMarketChange': -4.6100006,\n",
       "    'regularMarketTime': 1665777603,\n",
       "    'regularMarketDayHigh': 144.52,\n",
       "    'regularMarketDayRange': '138.19 - 144.52',\n",
       "    'regularMarketDayLow': 138.19,\n",
       "    'regularMarketVolume': 88597969,\n",
       "    'regularMarketPreviousClose': 142.99,\n",
       "    'bid': 138.06,\n",
       "    'ask': 138.08,\n",
       "    'bidSize': 9,\n",
       "    'askSize': 9,\n",
       "    'fullExchangeName': 'NasdaqGS',\n",
       "    'financialCurrency': 'USD',\n",
       "    'regularMarketOpen': 144.31,\n",
       "    'averageDailyVolume3Month': 81031121,\n",
       "    'averageDailyVolume10Day': 85997680,\n",
       "    'fiftyTwoWeekLowChange': 9.340012,\n",
       "    'fiftyTwoWeekLowChangePercent': 0.07238075,\n",
       "    'fiftyTwoWeekRange': '129.04 - 182.94',\n",
       "    'fiftyTwoWeekHighChange': -44.559998,\n",
       "    'fiftyTwoWeekHighChangePercent': -0.24357711,\n",
       "    'fiftyTwoWeekLow': 129.04,\n",
       "    'fiftyTwoWeekHigh': 182.94,\n",
       "    'dividendDate': 1660176000,\n",
       "    'earningsTimestamp': 1659038400,\n",
       "    'earningsTimestampStart': 1666814400,\n",
       "    'earningsTimestampEnd': 1667246400,\n",
       "    'trailingAnnualDividendRate': 0.89,\n",
       "    'trailingPE': 22.872726,\n",
       "    'trailingAnnualDividendYield': 0.0062242113,\n",
       "    'epsTrailingTwelveMonths': 6.05,\n",
       "    'epsForward': 6.47,\n",
       "    'epsCurrentYear': 6.11,\n",
       "    'priceEpsCurrentYear': 22.648119,\n",
       "    'sharesOutstanding': 16070800384,\n",
       "    'bookValue': 3.61,\n",
       "    'fiftyDayAverage': 156.3508,\n",
       "    'fiftyDayAverageChange': -17.970795,\n",
       "    'fiftyDayAverageChangePercent': -0.11493894,\n",
       "    'twoHundredDayAverage': 158.17775,\n",
       "    'twoHundredDayAverageChange': -19.797745,\n",
       "    'twoHundredDayAverageChangePercent': -0.12516138,\n",
       "    'marketCap': 2223877390336,\n",
       "    'forwardPE': 21.387945,\n",
       "    'priceToBook': 38.332413,\n",
       "    'displayName': 'Apple',\n",
       "    'symbol': 'AAPL'}],\n",
       "  'error': None}}"
      ]
     },
     "execution_count": 287,
     "metadata": {},
     "output_type": "execute_result"
    }
   ],
   "source": [
    "\n",
    "stock_json = response.json()\n",
    "stock_json"
   ]
  },
  {
   "cell_type": "code",
   "execution_count": 288,
   "id": "d42bd575",
   "metadata": {},
   "outputs": [
    {
     "data": {
      "text/plain": [
       "'Apple Inc.'"
      ]
     },
     "execution_count": 288,
     "metadata": {},
     "output_type": "execute_result"
    }
   ],
   "source": [
    "Full_Name = stock_json['quoteResponse']['result'][0]['longName'] #Full name of stock\n",
    "Full_Name"
   ]
  },
  {
   "cell_type": "code",
   "execution_count": 289,
   "id": "8c840c2d",
   "metadata": {},
   "outputs": [
    {
     "data": {
      "text/plain": [
       "<Response [200]>"
      ]
     },
     "execution_count": 289,
     "metadata": {},
     "output_type": "execute_result"
    }
   ],
   "source": [
    "url3 = 'https://query1.finance.yahoo.com/v10/finance/quoteSummary/aapl?modules=earningsHistory'\n",
    "response = requests.request(\"GET\",url3, headers=header_var,params=querystring)\n",
    "response"
   ]
  },
  {
   "cell_type": "code",
   "execution_count": 290,
   "id": "8b646e2b",
   "metadata": {},
   "outputs": [
    {
     "data": {
      "text/plain": [
       "{'quoteSummary': {'result': [{'defaultKeyStatistics': {'maxAge': 1,\n",
       "     'priceHint': {'raw': 2, 'fmt': '2', 'longFmt': '2'},\n",
       "     'enterpriseValue': {'raw': 2369416855552,\n",
       "      'fmt': '2.37T',\n",
       "      'longFmt': '2,369,416,855,552'},\n",
       "     'forwardPE': {'raw': 21.387945, 'fmt': '21.39'},\n",
       "     'profitMargins': {'raw': 0.25709, 'fmt': '25.71%'},\n",
       "     'floatShares': {'raw': 16053717003,\n",
       "      'fmt': '16.05B',\n",
       "      'longFmt': '16,053,717,003'},\n",
       "     'sharesOutstanding': {'raw': 16070800384,\n",
       "      'fmt': '16.07B',\n",
       "      'longFmt': '16,070,800,384'},\n",
       "     'sharesShort': {'raw': 103251184,\n",
       "      'fmt': '103.25M',\n",
       "      'longFmt': '103,251,184'},\n",
       "     'sharesShortPriorMonth': {'raw': 113066596,\n",
       "      'fmt': '113.07M',\n",
       "      'longFmt': '113,066,596'},\n",
       "     'sharesShortPreviousMonthDate': {'raw': 1661904000, 'fmt': '2022-08-31'},\n",
       "     'dateShortInterest': {'raw': 1664496000, 'fmt': '2022-09-30'},\n",
       "     'sharesPercentSharesOut': {'raw': 0.0064, 'fmt': '0.64%'},\n",
       "     'heldPercentInsiders': {'raw': 0.00071000005, 'fmt': '0.07%'},\n",
       "     'heldPercentInstitutions': {'raw': 0.59577, 'fmt': '59.58%'},\n",
       "     'shortRatio': {'raw': 1.06, 'fmt': '1.06'},\n",
       "     'shortPercentOfFloat': {'raw': 0.0064, 'fmt': '0.64%'},\n",
       "     'beta': {'raw': 1.249815, 'fmt': '1.25'},\n",
       "     'morningStarOverallRating': {},\n",
       "     'morningStarRiskRating': {},\n",
       "     'category': None,\n",
       "     'bookValue': {'raw': 3.61, 'fmt': '3.61'},\n",
       "     'priceToBook': {'raw': 38.332413, 'fmt': '38.33'},\n",
       "     'annualReportExpenseRatio': {},\n",
       "     'ytdReturn': {},\n",
       "     'beta3Year': {},\n",
       "     'totalAssets': {},\n",
       "     'yield': {},\n",
       "     'fundFamily': None,\n",
       "     'fundInceptionDate': {},\n",
       "     'legalType': None,\n",
       "     'threeYearAverageReturn': {},\n",
       "     'fiveYearAverageReturn': {},\n",
       "     'priceToSalesTrailing12Months': {},\n",
       "     'lastFiscalYearEnd': {'raw': 1632528000, 'fmt': '2021-09-25'},\n",
       "     'nextFiscalYearEnd': {'raw': 1695600000, 'fmt': '2023-09-25'},\n",
       "     'mostRecentQuarter': {'raw': 1656115200, 'fmt': '2022-06-25'},\n",
       "     'earningsQuarterlyGrowth': {'raw': -0.106, 'fmt': '-10.60%'},\n",
       "     'revenueQuarterlyGrowth': {},\n",
       "     'netIncomeToCommon': {'raw': 99632996352,\n",
       "      'fmt': '99.63B',\n",
       "      'longFmt': '99,632,996,352'},\n",
       "     'trailingEps': {'raw': 6.05, 'fmt': '6.05'},\n",
       "     'forwardEps': {'raw': 6.47, 'fmt': '6.47'},\n",
       "     'pegRatio': {'raw': 2.47, 'fmt': '2.47'},\n",
       "     'lastSplitFactor': '4:1',\n",
       "     'lastSplitDate': {'raw': 1598832000, 'fmt': '2020-08-31'},\n",
       "     'enterpriseToRevenue': {'raw': 6.114, 'fmt': '6.11'},\n",
       "     'enterpriseToEbitda': {'raw': 18.289, 'fmt': '18.29'},\n",
       "     '52WeekChange': {},\n",
       "     'SandP52WeekChange': {},\n",
       "     'lastDividendValue': {},\n",
       "     'lastCapGain': {},\n",
       "     'annualHoldingsTurnover': {}}}],\n",
       "  'error': None}}"
      ]
     },
     "execution_count": 290,
     "metadata": {},
     "output_type": "execute_result"
    }
   ],
   "source": [
    "url2=\"https://query1.finance.yahoo.com/v10/finance/quoteSummary/\"\n",
    "\n",
    "query_str = {\"symbol\": stock, \"modules\":\"defaultKeyStatistics\"}\n",
    "query_str\n",
    "\n",
    "response = requests.request(\"GET\",url2,headers=header_var,params=query_str)\n",
    "response\n",
    "\n",
    "stock_json1 = response.json()\n",
    "\n",
    "stock_json1"
   ]
  },
  {
   "cell_type": "code",
   "execution_count": 291,
   "id": "0a258bc7",
   "metadata": {},
   "outputs": [
    {
     "data": {
      "text/plain": [
       "0.25709"
      ]
     },
     "execution_count": 291,
     "metadata": {},
     "output_type": "execute_result"
    }
   ],
   "source": [
    "Profit_Margins = stock_json1['quoteSummary']['result'][0]['defaultKeyStatistics']['profitMargins']['raw']\n",
    "\n",
    "Profit_Margins"
   ]
  },
  {
   "cell_type": "code",
   "execution_count": 292,
   "id": "fd6d3528",
   "metadata": {},
   "outputs": [
    {
     "data": {
      "text/plain": [
       "{'quoteSummary': {'result': [{'financialData': {'maxAge': 86400,\n",
       "     'currentPrice': {'raw': 138.38, 'fmt': '138.38'},\n",
       "     'targetHighPrice': {'raw': 220.0, 'fmt': '220.00'},\n",
       "     'targetLowPrice': {'raw': 130.0, 'fmt': '130.00'},\n",
       "     'targetMeanPrice': {'raw': 183.16, 'fmt': '183.16'},\n",
       "     'targetMedianPrice': {'raw': 185.0, 'fmt': '185.00'},\n",
       "     'recommendationMean': {'raw': 1.9, 'fmt': '1.90'},\n",
       "     'recommendationKey': 'buy',\n",
       "     'numberOfAnalystOpinions': {'raw': 41, 'fmt': '41', 'longFmt': '41'},\n",
       "     'totalCash': {'raw': 48230998016,\n",
       "      'fmt': '48.23B',\n",
       "      'longFmt': '48,230,998,016'},\n",
       "     'totalCashPerShare': {'raw': 3.001, 'fmt': '3'},\n",
       "     'ebitda': {'raw': 129556996096,\n",
       "      'fmt': '129.56B',\n",
       "      'longFmt': '129,556,996,096'},\n",
       "     'totalDebt': {'raw': 119691001856,\n",
       "      'fmt': '119.69B',\n",
       "      'longFmt': '119,691,001,856'},\n",
       "     'quickRatio': {'raw': 0.697, 'fmt': '0.70'},\n",
       "     'currentRatio': {'raw': 0.865, 'fmt': '0.87'},\n",
       "     'totalRevenue': {'raw': 387541991424,\n",
       "      'fmt': '387.54B',\n",
       "      'longFmt': '387,541,991,424'},\n",
       "     'debtToEquity': {'raw': 205.984, 'fmt': '205.98'},\n",
       "     'revenuePerShare': {'raw': 23.732, 'fmt': '23.73'},\n",
       "     'returnOnAssets': {'raw': 0.22204, 'fmt': '22.20%'},\n",
       "     'returnOnEquity': {'raw': 1.62816, 'fmt': '162.82%'},\n",
       "     'grossProfits': {'raw': 152836000000,\n",
       "      'fmt': '152.84B',\n",
       "      'longFmt': '152,836,000,000'},\n",
       "     'freeCashflow': {'raw': 83344621568,\n",
       "      'fmt': '83.34B',\n",
       "      'longFmt': '83,344,621,568'},\n",
       "     'operatingCashflow': {'raw': 118224003072,\n",
       "      'fmt': '118.22B',\n",
       "      'longFmt': '118,224,003,072'},\n",
       "     'earningsGrowth': {'raw': -0.077, 'fmt': '-7.70%'},\n",
       "     'revenueGrowth': {'raw': 0.019, 'fmt': '1.90%'},\n",
       "     'grossMargins': {'raw': 0.43313998, 'fmt': '43.31%'},\n",
       "     'ebitdaMargins': {'raw': 0.3343, 'fmt': '33.43%'},\n",
       "     'operatingMargins': {'raw': 0.30533, 'fmt': '30.53%'},\n",
       "     'profitMargins': {'raw': 0.25709, 'fmt': '25.71%'},\n",
       "     'financialCurrency': 'USD'}}],\n",
       "  'error': None}}"
      ]
     },
     "execution_count": 292,
     "metadata": {},
     "output_type": "execute_result"
    }
   ],
   "source": [
    "q_str = {\"symbol\": stock, \"modules\":\"financialData\"}\n",
    "q_str\n",
    "\n",
    "#financialData\n",
    "response = requests.request(\"GET\",url2,headers=header_var,params=q_str)\n",
    "response\n",
    "\n",
    "stock_json2 = response.json()\n",
    "\n",
    "stock_json2"
   ]
  },
  {
   "cell_type": "code",
   "execution_count": 293,
   "id": "13bbcf4e",
   "metadata": {},
   "outputs": [
    {
     "data": {
      "text/plain": [
       "138.38"
      ]
     },
     "execution_count": 293,
     "metadata": {},
     "output_type": "execute_result"
    }
   ],
   "source": [
    "Current_Price = stock_json2['quoteSummary']['result'][0]['financialData']['currentPrice']['raw'] # current price\\\n",
    "Current_Price"
   ]
  },
  {
   "cell_type": "code",
   "execution_count": 294,
   "id": "466304b0",
   "metadata": {},
   "outputs": [
    {
     "data": {
      "text/plain": [
       "185.0"
      ]
     },
     "execution_count": 294,
     "metadata": {},
     "output_type": "execute_result"
    }
   ],
   "source": [
    "Target_Mean = stock_json2['quoteSummary']['result'][0]['financialData']['targetMedianPrice']['raw'] #targetMedianPrice\n",
    "\n",
    "Target_Mean\n"
   ]
  },
  {
   "cell_type": "code",
   "execution_count": 295,
   "id": "7572c085",
   "metadata": {},
   "outputs": [
    {
     "data": {
      "text/plain": [
       "83344621568"
      ]
     },
     "execution_count": 295,
     "metadata": {},
     "output_type": "execute_result"
    }
   ],
   "source": [
    "Cash = stock_json2['quoteSummary']['result'][0]['financialData']['freeCashflow']['raw'] #freeCashflow\n",
    "Cash"
   ]
  },
  {
   "cell_type": "code",
   "execution_count": 296,
   "id": "709af9f3",
   "metadata": {},
   "outputs": [
    {
     "data": {
      "text/plain": [
       "datetime.date(2022, 10, 16)"
      ]
     },
     "execution_count": 296,
     "metadata": {},
     "output_type": "execute_result"
    }
   ],
   "source": [
    "Date = pandas.to_datetime(\"today\").date()\n",
    "Date"
   ]
  },
  {
   "cell_type": "code",
   "execution_count": 297,
   "id": "7c07e9be",
   "metadata": {},
   "outputs": [
    {
     "data": {
      "text/plain": [
       "('{\"Ticker Name \": \"AAPL\", \"Full Name of Stock\": \"Apple Inc.\", \"Current Price\": 138.38, \"Target Mean Price\": 185.0, \"Cash on Hand\": 83344621568, \"Profit Margins\": 0.25709}',\n",
       " datetime.date(2022, 10, 16))"
      ]
     },
     "execution_count": 297,
     "metadata": {},
     "output_type": "execute_result"
    }
   ],
   "source": [
    "stock_info = {\n",
    "        \"Ticker Name \": stock,\n",
    "        \"Full Name of Stock\": Full_Name,\n",
    "        \"Current Price\": Current_Price,\n",
    "        \"Target Mean Price\": Target_Mean,\n",
    "        \"Cash on Hand\": Cash,\n",
    "        \"Profit Margins\": Profit_Margins,\n",
    "}\n",
    "stock_info\n",
    "\n",
    "Stock_Info = json.dumps(stock_info), Date\n",
    "Stock_Info\n",
    "#Current Price, Target Mean Price, Cash on Hand, Profit Margins"
   ]
  },
  {
   "cell_type": "code",
   "execution_count": 298,
   "id": "ac395475",
   "metadata": {},
   "outputs": [
    {
     "name": "stdout",
     "output_type": "stream",
     "text": [
      "Apple Inc.\n"
     ]
    }
   ],
   "source": [
    "try:\n",
    "  print(stock_json['quoteResponse']['result'][0]['longName'])\n",
    "except:\n",
    "  print(\"An error occurred\")"
   ]
  },
  {
   "cell_type": "code",
   "execution_count": null,
   "id": "e886c908",
   "metadata": {},
   "outputs": [],
   "source": []
  }
 ],
 "metadata": {
  "kernelspec": {
   "display_name": "Python 3 (ipykernel)",
   "language": "python",
   "name": "python3"
  },
  "language_info": {
   "codemirror_mode": {
    "name": "ipython",
    "version": 3
   },
   "file_extension": ".py",
   "mimetype": "text/x-python",
   "name": "python",
   "nbconvert_exporter": "python",
   "pygments_lexer": "ipython3",
   "version": "3.9.12"
  }
 },
 "nbformat": 4,
 "nbformat_minor": 5
}
